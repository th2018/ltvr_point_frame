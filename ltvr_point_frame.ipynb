{
 "cells": [
  {
   "cell_type": "markdown",
   "id": "86f8d4b2",
   "metadata": {},
   "source": [
    "1. plot location\n",
    "2. plot id\n",
    "3. ground truth\n",
    "\n",
    "step 1: merge export[''] and export['']\n"
   ]
  },
  {
   "cell_type": "code",
   "execution_count": null,
   "id": "8062879f",
   "metadata": {},
   "outputs": [],
   "source": []
  }
 ],
 "metadata": {
  "kernelspec": {
   "display_name": "Python 3 (ipykernel)",
   "language": "python",
   "name": "python3"
  },
  "language_info": {
   "codemirror_mode": {
    "name": "ipython",
    "version": 3
   },
   "file_extension": ".py",
   "mimetype": "text/x-python",
   "name": "python",
   "nbconvert_exporter": "python",
   "pygments_lexer": "ipython3",
   "version": "3.8.12"
  }
 },
 "nbformat": 4,
 "nbformat_minor": 5
}
