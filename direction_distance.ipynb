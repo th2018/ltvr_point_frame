{
 "cells": [
  {
   "cell_type": "markdown",
   "id": "73a3d9df",
   "metadata": {},
   "source": [
    "# Import"
   ]
  },
  {
   "cell_type": "code",
   "execution_count": 1,
   "id": "3d684231",
   "metadata": {},
   "outputs": [],
   "source": [
    "import math \n",
    "import pyproj\n",
    "from pyproj import Proj, transform\n",
    "import pandas as pd\n",
    "import numpy as np"
   ]
  },
  {
   "cell_type": "markdown",
   "id": "c2a8e57a",
   "metadata": {},
   "source": [
    "start point x y and angle"
   ]
  },
  {
   "cell_type": "code",
   "execution_count": 2,
   "id": "45d8abb1",
   "metadata": {},
   "outputs": [
    {
     "data": {
      "text/plain": [
       "[523335.0399, 4779543.85]"
      ]
     },
     "execution_count": 2,
     "metadata": {},
     "output_type": "execute_result"
    }
   ],
   "source": [
    "x=523335.0399\n",
    "y=4779543.85\n",
    "azimuth=270\n",
    "#p1=[523335.0399,4779543.85]\n",
    "p1=[x,y]\n",
    "p1"
   ]
  },
  {
   "cell_type": "code",
   "execution_count": 3,
   "id": "df359945",
   "metadata": {},
   "outputs": [],
   "source": [
    "pf_d=30"
   ]
  },
  {
   "cell_type": "code",
   "execution_count": 4,
   "id": "daf0991b",
   "metadata": {},
   "outputs": [
    {
     "data": {
      "text/plain": [
       "[523335.0399, 4779513.85]"
      ]
     },
     "execution_count": 4,
     "metadata": {},
     "output_type": "execute_result"
    }
   ],
   "source": [
    "p2=[x+ pf_d*math.cos(azimuth/180*math.pi),y+ pf_d*math.sin(azimuth/180*math.pi)]\n",
    "p2"
   ]
  },
  {
   "cell_type": "code",
   "execution_count": 5,
   "id": "c0160dd2",
   "metadata": {},
   "outputs": [
    {
     "data": {
      "text/plain": [
       "[523365.0399, 4779513.85]"
      ]
     },
     "execution_count": 5,
     "metadata": {},
     "output_type": "execute_result"
    }
   ],
   "source": [
    "p3=[p2[0]+ pf_d*math.cos((azimuth+90)/180*math.pi),p2[1]+ pf_d*math.sin( (azimuth+90)/180*math.pi)]\n",
    "p3"
   ]
  },
  {
   "cell_type": "code",
   "execution_count": 6,
   "id": "46ab2fc9",
   "metadata": {},
   "outputs": [
    {
     "data": {
      "text/plain": [
       "[523365.0399, 4779543.85]"
      ]
     },
     "execution_count": 6,
     "metadata": {},
     "output_type": "execute_result"
    }
   ],
   "source": [
    "p4=[p3[0]+ pf_d*math.cos( (azimuth+90+90)/180*math.pi),p3[1]+ pf_d*math.sin( (azimuth+90+90)/180*math.pi)]\n",
    "p4"
   ]
  },
  {
   "cell_type": "code",
   "execution_count": 7,
   "id": "cea84214",
   "metadata": {},
   "outputs": [
    {
     "name": "stdout",
     "output_type": "stream",
     "text": [
      "[523335.0399, 4779543.85] , [523335.0399, 4779513.85] , [523365.0399, 4779513.85] , [523365.0399, 4779543.85]\n"
     ]
    }
   ],
   "source": [
    "print(p1,\",\",p2,\",\",p3,\",\",p4)"
   ]
  },
  {
   "cell_type": "code",
   "execution_count": 8,
   "id": "ffbbe910",
   "metadata": {},
   "outputs": [
    {
     "name": "stdout",
     "output_type": "stream",
     "text": [
      "[523335.0399, 4779543.683333333] [523335.0399, 4779543.516666667] [523335.0399, 4779543.35] [523335.0399, 4779543.183333333] [523335.0399, 4779543.016666667]\n"
     ]
    }
   ],
   "source": [
    "row1_start=[x+1/6*math.cos(azimuth/180*math.pi),y+1/6*math.sin(azimuth/180*math.pi)]\n",
    "row2_start=[x+2/6*math.cos(azimuth/180*math.pi),y+2/6*math.sin(azimuth/180*math.pi)]\n",
    "row3_start=[x+3/6*math.cos(azimuth/180*math.pi),y+3/6*math.sin(azimuth/180*math.pi)]\n",
    "row4_start=[x+4/6*math.cos(azimuth/180*math.pi),y+4/6*math.sin(azimuth/180*math.pi)]\n",
    "row5_start=[x+5/6*math.cos(azimuth/180*math.pi),y+5/6*math.sin(azimuth/180*math.pi)]\n",
    "print(row1_start,row2_start,row3_start,row4_start,row5_start)"
   ]
  },
  {
   "cell_type": "code",
   "execution_count": 9,
   "id": "161c1b0e",
   "metadata": {},
   "outputs": [
    {
     "name": "stdout",
     "output_type": "stream",
     "text": [
      "[523365.0399, 4779514.016666667] [523365.0399, 4779514.016666667] [523365.0399, 4779514.016666667] [523365.0399, 4779514.016666667] [523365.0399, 4779514.016666667]\n"
     ]
    }
   ],
   "source": [
    "row5_end=[p3[0]+1/6*math.cos( (azimuth+90+90)/180*math.pi),p3[1]+1/6*math.sin( (azimuth+90+90)/180*math.pi)]\n",
    "row4_end=[p3[0]+1/6*math.cos( (azimuth+90+90)/180*math.pi),p3[1]+1/6*math.sin( (azimuth+90+90)/180*math.pi)]\n",
    "row3_end=[p3[0]+1/6*math.cos( (azimuth+90+90)/180*math.pi),p3[1]+1/6*math.sin( (azimuth+90+90)/180*math.pi)]\n",
    "row2_end=[p3[0]+1/6*math.cos( (azimuth+90+90)/180*math.pi),p3[1]+1/6*math.sin( (azimuth+90+90)/180*math.pi)]\n",
    "row1_end=[p3[0]+1/6*math.cos( (azimuth+90+90)/180*math.pi),p3[1]+1/6*math.sin( (azimuth+90+90)/180*math.pi)]\n",
    "print(row5_end,row4_end,row3_end,row2_end,row1_end)"
   ]
  },
  {
   "cell_type": "code",
   "execution_count": 10,
   "id": "0de28c49",
   "metadata": {},
   "outputs": [],
   "source": [
    "wgs84 = pyproj.Proj(projparams = 'epsg:4326')\n",
    "utm = pyproj.Proj(projparams = 'epsg:32611')"
   ]
  },
  {
   "cell_type": "code",
   "execution_count": 27,
   "id": "c238d31c",
   "metadata": {},
   "outputs": [
    {
     "name": "stdout",
     "output_type": "stream",
     "text": [
      "[[-116.71292517050624, 43.16829419026596], [-116.71292643560051, 43.168024048912486], [-116.71255737255926, 43.168023122318516], [-116.71255610583866, 43.1682932636633]]\n"
     ]
    },
    {
     "name": "stderr",
     "output_type": "stream",
     "text": [
      "C:\\Users\\taohuang\\AppData\\Local\\Temp/ipykernel_9708/3933757608.py:1: DeprecationWarning: This function is deprecated. See: https://pyproj4.github.io/pyproj/stable/gotchas.html#upgrading-to-pyproj-2-from-pyproj-1\n",
      "  lon_lat1 = pyproj.transform(utm,wgs84, p1[0],p1[1])\n",
      "C:\\Users\\taohuang\\AppData\\Local\\Temp/ipykernel_9708/3933757608.py:4: DeprecationWarning: This function is deprecated. See: https://pyproj4.github.io/pyproj/stable/gotchas.html#upgrading-to-pyproj-2-from-pyproj-1\n",
      "  lon_lat2 = pyproj.transform(utm,wgs84, p2[0],p2[1])\n",
      "C:\\Users\\taohuang\\AppData\\Local\\Temp/ipykernel_9708/3933757608.py:7: DeprecationWarning: This function is deprecated. See: https://pyproj4.github.io/pyproj/stable/gotchas.html#upgrading-to-pyproj-2-from-pyproj-1\n",
      "  lon_lat3 = pyproj.transform(utm,wgs84, p3[0],p3[1])\n",
      "C:\\Users\\taohuang\\AppData\\Local\\Temp/ipykernel_9708/3933757608.py:10: DeprecationWarning: This function is deprecated. See: https://pyproj4.github.io/pyproj/stable/gotchas.html#upgrading-to-pyproj-2-from-pyproj-1\n",
      "  lon_lat4 = pyproj.transform(utm,wgs84, p4[0],p4[1])\n"
     ]
    }
   ],
   "source": [
    "lon_lat1 = pyproj.transform(utm,wgs84, p1[0],p1[1])\n",
    "lon_latp1= [lon_lat1[1],lon_lat1[0]]\n",
    "\n",
    "lon_lat2 = pyproj.transform(utm,wgs84, p2[0],p2[1])\n",
    "lon_latp2=[lon_lat2[1],lon_lat2[0]]\n",
    "\n",
    "lon_lat3 = pyproj.transform(utm,wgs84, p3[0],p3[1])\n",
    "lon_latp3=[lon_lat3[1],lon_lat3[0]]\n",
    "\n",
    "lon_lat4 = pyproj.transform(utm,wgs84, p4[0],p4[1])\n",
    "lon_latp4=[lon_lat4[1],lon_lat4[0]]\n",
    "\n",
    "print([lon_latp1,lon_latp2,lon_latp3,lon_latp4])\n",
    "\n",
    "#print( [lon_lat1[0],lon_lat1[1]],\",\",[lon_lat2[0],lon_lat2[1]],\",\",[lon_lat3[0],lon_lat3[1]],\",\",[lon_lat4[0],lon_lat4[1]] )"
   ]
  },
  {
   "cell_type": "code",
   "execution_count": 13,
   "id": "995b6d99",
   "metadata": {},
   "outputs": [],
   "source": [
    "#from pygc import great_circle"
   ]
  },
  {
   "cell_type": "markdown",
   "id": "61f9dedf",
   "metadata": {},
   "source": [
    "https://introcs.cs.princeton.edu/python/12types/greatcircle.py.html"
   ]
  },
  {
   "cell_type": "code",
   "execution_count": 14,
   "id": "48f6e90c",
   "metadata": {},
   "outputs": [],
   "source": [
    "#great_circle(distance= 1/1609, azimuth=270, latitude= 43.168303, longitude= -116.712925)"
   ]
  },
  {
   "cell_type": "code",
   "execution_count": null,
   "id": "1448c704",
   "metadata": {},
   "outputs": [],
   "source": []
  }
 ],
 "metadata": {
  "kernelspec": {
   "display_name": "Python 3 (ipykernel)",
   "language": "python",
   "name": "python3"
  },
  "language_info": {
   "codemirror_mode": {
    "name": "ipython",
    "version": 3
   },
   "file_extension": ".py",
   "mimetype": "text/x-python",
   "name": "python",
   "nbconvert_exporter": "python",
   "pygments_lexer": "ipython3",
   "version": "3.8.12"
  }
 },
 "nbformat": 4,
 "nbformat_minor": 5
}
