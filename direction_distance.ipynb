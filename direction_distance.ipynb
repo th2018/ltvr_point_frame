{
 "cells": [
  {
   "cell_type": "code",
   "execution_count": 11,
   "id": "6ec62da1",
   "metadata": {},
   "outputs": [],
   "source": [
    "import math "
   ]
  },
  {
   "cell_type": "code",
   "execution_count": 12,
   "id": "54b19613",
   "metadata": {},
   "outputs": [
    {
     "data": {
      "text/plain": [
       "4779543.85"
      ]
     },
     "execution_count": 12,
     "metadata": {},
     "output_type": "execute_result"
    }
   ],
   "source": [
    "523335.0399\n",
    "4779543.85"
   ]
  },
  {
   "cell_type": "code",
   "execution_count": 13,
   "id": "da3b62b9",
   "metadata": {},
   "outputs": [],
   "source": [
    "#from pygc import great_circle"
   ]
  },
  {
   "cell_type": "markdown",
   "id": "6a5218c1",
   "metadata": {},
   "source": [
    "https://introcs.cs.princeton.edu/python/12types/greatcircle.py.html"
   ]
  },
  {
   "cell_type": "code",
   "execution_count": 14,
   "id": "3b1a5e69",
   "metadata": {},
   "outputs": [],
   "source": [
    "#great_circle(distance= 1/1609, azimuth=270, latitude= 43.168303, longitude= -116.712925)"
   ]
  },
  {
   "cell_type": "code",
   "execution_count": 22,
   "id": "a1d0b4e6",
   "metadata": {},
   "outputs": [
    {
     "data": {
      "text/plain": [
       "-1.8369701987210297e-16"
      ]
     },
     "execution_count": 22,
     "metadata": {},
     "output_type": "execute_result"
    }
   ],
   "source": [
    "1*math.cos(270/180*math.pi)"
   ]
  },
  {
   "cell_type": "code",
   "execution_count": 23,
   "id": "660d0610",
   "metadata": {},
   "outputs": [
    {
     "data": {
      "text/plain": [
       "-1.0"
      ]
     },
     "execution_count": 23,
     "metadata": {},
     "output_type": "execute_result"
    }
   ],
   "source": [
    "1*math.sin(270/180*math.pi)"
   ]
  },
  {
   "cell_type": "code",
   "execution_count": 24,
   "id": "df7c545d",
   "metadata": {},
   "outputs": [
    {
     "data": {
      "text/plain": [
       "-1.0"
      ]
     },
     "execution_count": 24,
     "metadata": {},
     "output_type": "execute_result"
    }
   ],
   "source": [
    "math.cos(math.pi)"
   ]
  },
  {
   "cell_type": "code",
   "execution_count": null,
   "id": "16e813c1",
   "metadata": {},
   "outputs": [],
   "source": []
  }
 ],
 "metadata": {
  "kernelspec": {
   "display_name": "Python 3 (ipykernel)",
   "language": "python",
   "name": "python3"
  },
  "language_info": {
   "codemirror_mode": {
    "name": "ipython",
    "version": 3
   },
   "file_extension": ".py",
   "mimetype": "text/x-python",
   "name": "python",
   "nbconvert_exporter": "python",
   "pygments_lexer": "ipython3",
   "version": "3.8.12"
  }
 },
 "nbformat": 4,
 "nbformat_minor": 5
}
