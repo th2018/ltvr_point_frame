{
 "cells": [
  {
   "cell_type": "markdown",
   "id": "daf817db",
   "metadata": {},
   "source": [
    "The goal of this script is to generate pin shp"
   ]
  },
  {
   "cell_type": "markdown",
   "id": "f11acd50",
   "metadata": {},
   "source": [
    "Import packages"
   ]
  },
  {
   "cell_type": "code",
   "execution_count": 7,
   "id": "5ece5166",
   "metadata": {},
   "outputs": [],
   "source": [
    "import math \n",
    "import pyproj\n",
    "from pyproj import Proj, transform\n",
    "import pandas as pd\n",
    "import numpy as np\n",
    "from simpledbf import Dbf5\n",
    "from dbfread import DBF"
   ]
  },
  {
   "cell_type": "markdown",
   "id": "55ef16d8",
   "metadata": {},
   "source": [
    "The point frame start point x y and angle"
   ]
  },
  {
   "cell_type": "code",
   "execution_count": 8,
   "id": "c8d6ec55",
   "metadata": {},
   "outputs": [
    {
     "data": {
      "text/html": [
       "<div>\n",
       "<style scoped>\n",
       "    .dataframe tbody tr th:only-of-type {\n",
       "        vertical-align: middle;\n",
       "    }\n",
       "\n",
       "    .dataframe tbody tr th {\n",
       "        vertical-align: top;\n",
       "    }\n",
       "\n",
       "    .dataframe thead th {\n",
       "        text-align: right;\n",
       "    }\n",
       "</style>\n",
       "<table border=\"1\" class=\"dataframe\">\n",
       "  <thead>\n",
       "    <tr style=\"text-align: right;\">\n",
       "      <th></th>\n",
       "      <th>Id</th>\n",
       "      <th>PNTID</th>\n",
       "      <th>NWRC_Ref</th>\n",
       "      <th>Direction</th>\n",
       "      <th>GPS_LBL</th>\n",
       "      <th>PtFrm_ID</th>\n",
       "      <th>SMPL_2017</th>\n",
       "      <th>RTK_cor</th>\n",
       "      <th>GPS_Lbl2</th>\n",
       "      <th>lat</th>\n",
       "      <th>lon</th>\n",
       "      <th>x</th>\n",
       "      <th>y</th>\n",
       "    </tr>\n",
       "  </thead>\n",
       "  <tbody>\n",
       "    <tr>\n",
       "      <th>0</th>\n",
       "      <td>34</td>\n",
       "      <td>1</td>\n",
       "      <td>losveg1</td>\n",
       "      <td>315.0</td>\n",
       "      <td>1, 315</td>\n",
       "      <td>losveg1_1</td>\n",
       "      <td>No</td>\n",
       "      <td>0</td>\n",
       "      <td></td>\n",
       "      <td>43.143526</td>\n",
       "      <td>-116.736699</td>\n",
       "      <td>521411.183624</td>\n",
       "      <td>4.776787e+06</td>\n",
       "    </tr>\n",
       "    <tr>\n",
       "      <th>1</th>\n",
       "      <td>35</td>\n",
       "      <td>2</td>\n",
       "      <td>losveg1</td>\n",
       "      <td>90.0</td>\n",
       "      <td>2, 90</td>\n",
       "      <td>losveg1_2</td>\n",
       "      <td>Yes</td>\n",
       "      <td>0</td>\n",
       "      <td>2, 90</td>\n",
       "      <td>43.143123</td>\n",
       "      <td>-116.735770</td>\n",
       "      <td>521486.870094</td>\n",
       "      <td>4.776742e+06</td>\n",
       "    </tr>\n",
       "    <tr>\n",
       "      <th>2</th>\n",
       "      <td>36</td>\n",
       "      <td>3</td>\n",
       "      <td>losveg1</td>\n",
       "      <td>270.0</td>\n",
       "      <td>3, 270</td>\n",
       "      <td>losveg1_3</td>\n",
       "      <td>Yes</td>\n",
       "      <td>0</td>\n",
       "      <td>3, 270</td>\n",
       "      <td>43.143435</td>\n",
       "      <td>-116.735585</td>\n",
       "      <td>521501.830839</td>\n",
       "      <td>4.776777e+06</td>\n",
       "    </tr>\n",
       "    <tr>\n",
       "      <th>3</th>\n",
       "      <td>37</td>\n",
       "      <td>4</td>\n",
       "      <td>losveg1</td>\n",
       "      <td>0.0</td>\n",
       "      <td>4, 0</td>\n",
       "      <td>losveg1_4</td>\n",
       "      <td>Yes</td>\n",
       "      <td>0</td>\n",
       "      <td>4, 0</td>\n",
       "      <td>43.143350</td>\n",
       "      <td>-116.736626</td>\n",
       "      <td>521417.219958</td>\n",
       "      <td>4.776767e+06</td>\n",
       "    </tr>\n",
       "    <tr>\n",
       "      <th>4</th>\n",
       "      <td>38</td>\n",
       "      <td>5</td>\n",
       "      <td>losveg1</td>\n",
       "      <td>180.0</td>\n",
       "      <td>5, 180</td>\n",
       "      <td>losveg1_5</td>\n",
       "      <td>Yes</td>\n",
       "      <td>0</td>\n",
       "      <td>5, 180</td>\n",
       "      <td>43.142813</td>\n",
       "      <td>-116.736256</td>\n",
       "      <td>521447.492661</td>\n",
       "      <td>4.776708e+06</td>\n",
       "    </tr>\n",
       "    <tr>\n",
       "      <th>...</th>\n",
       "      <td>...</td>\n",
       "      <td>...</td>\n",
       "      <td>...</td>\n",
       "      <td>...</td>\n",
       "      <td>...</td>\n",
       "      <td>...</td>\n",
       "      <td>...</td>\n",
       "      <td>...</td>\n",
       "      <td>...</td>\n",
       "      <td>...</td>\n",
       "      <td>...</td>\n",
       "      <td>...</td>\n",
       "      <td>...</td>\n",
       "    </tr>\n",
       "    <tr>\n",
       "      <th>490</th>\n",
       "      <td>319</td>\n",
       "      <td>22</td>\n",
       "      <td>mbsveg3</td>\n",
       "      <td>315.0</td>\n",
       "      <td>22, 315</td>\n",
       "      <td>mbsveg3_22</td>\n",
       "      <td>Yes</td>\n",
       "      <td>2018</td>\n",
       "      <td>22, 315</td>\n",
       "      <td>43.073217</td>\n",
       "      <td>-116.770456</td>\n",
       "      <td>518687.513038</td>\n",
       "      <td>4.768971e+06</td>\n",
       "    </tr>\n",
       "    <tr>\n",
       "      <th>491</th>\n",
       "      <td>318</td>\n",
       "      <td>21</td>\n",
       "      <td>mbsveg3</td>\n",
       "      <td>225.0</td>\n",
       "      <td>21, 225</td>\n",
       "      <td>mbsveg3_21</td>\n",
       "      <td>Yes</td>\n",
       "      <td>2018</td>\n",
       "      <td>21, 225</td>\n",
       "      <td>43.072686</td>\n",
       "      <td>-116.769630</td>\n",
       "      <td>518754.897017</td>\n",
       "      <td>4.768912e+06</td>\n",
       "    </tr>\n",
       "    <tr>\n",
       "      <th>492</th>\n",
       "      <td>305</td>\n",
       "      <td>8</td>\n",
       "      <td>mbsveg3</td>\n",
       "      <td>315.0</td>\n",
       "      <td>8, 315</td>\n",
       "      <td>mbsveg3_8</td>\n",
       "      <td>Yes</td>\n",
       "      <td>2018</td>\n",
       "      <td>8, 315</td>\n",
       "      <td>43.072515</td>\n",
       "      <td>-116.770446</td>\n",
       "      <td>518688.589782</td>\n",
       "      <td>4.768893e+06</td>\n",
       "    </tr>\n",
       "    <tr>\n",
       "      <th>493</th>\n",
       "      <td>304</td>\n",
       "      <td>7</td>\n",
       "      <td>mbsveg3</td>\n",
       "      <td>315.0</td>\n",
       "      <td>7, 315</td>\n",
       "      <td>mbsveg3_7</td>\n",
       "      <td>Yes</td>\n",
       "      <td>0</td>\n",
       "      <td>7, 315</td>\n",
       "      <td>43.072738</td>\n",
       "      <td>-116.770393</td>\n",
       "      <td>518692.808556</td>\n",
       "      <td>4.768918e+06</td>\n",
       "    </tr>\n",
       "    <tr>\n",
       "      <th>494</th>\n",
       "      <td>309</td>\n",
       "      <td>12</td>\n",
       "      <td>mbsveg3</td>\n",
       "      <td>90.0</td>\n",
       "      <td>12, 90</td>\n",
       "      <td>mbsveg3_12</td>\n",
       "      <td>No</td>\n",
       "      <td>0</td>\n",
       "      <td></td>\n",
       "      <td>43.073177</td>\n",
       "      <td>-116.770034</td>\n",
       "      <td>518721.920984</td>\n",
       "      <td>4.768967e+06</td>\n",
       "    </tr>\n",
       "  </tbody>\n",
       "</table>\n",
       "<p>495 rows × 13 columns</p>\n",
       "</div>"
      ],
      "text/plain": [
       "      Id  PNTID NWRC_Ref  Direction  GPS_LBL    PtFrm_ID SMPL_2017  RTK_cor  \\\n",
       "0     34      1  losveg1      315.0   1, 315   losveg1_1        No        0   \n",
       "1     35      2  losveg1       90.0    2, 90   losveg1_2       Yes        0   \n",
       "2     36      3  losveg1      270.0   3, 270   losveg1_3       Yes        0   \n",
       "3     37      4  losveg1        0.0     4, 0   losveg1_4       Yes        0   \n",
       "4     38      5  losveg1      180.0   5, 180   losveg1_5       Yes        0   \n",
       "..   ...    ...      ...        ...      ...         ...       ...      ...   \n",
       "490  319     22  mbsveg3      315.0  22, 315  mbsveg3_22       Yes     2018   \n",
       "491  318     21  mbsveg3      225.0  21, 225  mbsveg3_21       Yes     2018   \n",
       "492  305      8  mbsveg3      315.0   8, 315   mbsveg3_8       Yes     2018   \n",
       "493  304      7  mbsveg3      315.0   7, 315   mbsveg3_7       Yes        0   \n",
       "494  309     12  mbsveg3       90.0   12, 90  mbsveg3_12        No        0   \n",
       "\n",
       "    GPS_Lbl2        lat         lon              x             y  \n",
       "0             43.143526 -116.736699  521411.183624  4.776787e+06  \n",
       "1      2, 90  43.143123 -116.735770  521486.870094  4.776742e+06  \n",
       "2     3, 270  43.143435 -116.735585  521501.830839  4.776777e+06  \n",
       "3       4, 0  43.143350 -116.736626  521417.219958  4.776767e+06  \n",
       "4     5, 180  43.142813 -116.736256  521447.492661  4.776708e+06  \n",
       "..       ...        ...         ...            ...           ...  \n",
       "490  22, 315  43.073217 -116.770456  518687.513038  4.768971e+06  \n",
       "491  21, 225  43.072686 -116.769630  518754.897017  4.768912e+06  \n",
       "492   8, 315  43.072515 -116.770446  518688.589782  4.768893e+06  \n",
       "493   7, 315  43.072738 -116.770393  518692.808556  4.768918e+06  \n",
       "494           43.073177 -116.770034  518721.920984  4.768967e+06  \n",
       "\n",
       "[495 rows x 13 columns]"
      ]
     },
     "execution_count": 8,
     "metadata": {},
     "output_type": "execute_result"
    }
   ],
   "source": [
    "dbf = DBF(r'C:\\Users\\taohuang\\Downloads\\LTVR_LAI_RTK-corrected\\LTVM_PointFrame_wDirection.dbf')\n",
    "frame = pd.DataFrame(iter(dbf))\n",
    "frame"
   ]
  },
  {
   "cell_type": "code",
   "execution_count": null,
   "id": "ae16f82e",
   "metadata": {},
   "outputs": [],
   "source": [
    "PNTID=7\n",
    "NWRC_Ref=\"losveg1\""
   ]
  },
  {
   "cell_type": "code",
   "execution_count": null,
   "id": "af4ecf2d",
   "metadata": {},
   "outputs": [],
   "source": []
  },
  {
   "cell_type": "code",
   "execution_count": 5,
   "id": "3a5d18a9",
   "metadata": {},
   "outputs": [
    {
     "name": "stdout",
     "output_type": "stream",
     "text": [
      "0.7071067811865474 -0.7071067811865477\n"
     ]
    }
   ],
   "source": [
    "x=  521431.140034\n",
    "y=  4776799.79509\n",
    "azimuth= 315\n",
    "p1=[x,y]\n",
    "p1\n",
    "print(math.cos(azimuth/180*math.pi), math.sin(azimuth/180*math.pi))"
   ]
  },
  {
   "cell_type": "markdown",
   "id": "2555c0fc",
   "metadata": {},
   "source": [
    "The point frame length"
   ]
  },
  {
   "cell_type": "code",
   "execution_count": 6,
   "id": "0fe6655f",
   "metadata": {},
   "outputs": [],
   "source": [
    "pf_d=1"
   ]
  },
  {
   "cell_type": "code",
   "execution_count": 5,
   "id": "acfc1a5d",
   "metadata": {},
   "outputs": [
    {
     "data": {
      "text/plain": [
       "[521431.8471407812, 4776799.087983219]"
      ]
     },
     "execution_count": 5,
     "metadata": {},
     "output_type": "execute_result"
    }
   ],
   "source": [
    "p2=[x+ pf_d*math.cos(azimuth/180*math.pi),y+ pf_d*math.sin(azimuth/180*math.pi)]\n",
    "p2"
   ]
  },
  {
   "cell_type": "code",
   "execution_count": 6,
   "id": "1c458568",
   "metadata": {},
   "outputs": [
    {
     "data": {
      "text/plain": [
       "[521432.55424756237, 4776799.79509]"
      ]
     },
     "execution_count": 6,
     "metadata": {},
     "output_type": "execute_result"
    }
   ],
   "source": [
    "p3=[p2[0]+ pf_d*math.cos((azimuth+90)/180*math.pi),p2[1]+ pf_d*math.sin( (azimuth+90)/180*math.pi)]\n",
    "p3"
   ]
  },
  {
   "cell_type": "code",
   "execution_count": 7,
   "id": "b4662cbf",
   "metadata": {},
   "outputs": [
    {
     "data": {
      "text/plain": [
       "[521431.8471407812, 4776800.502196781]"
      ]
     },
     "execution_count": 7,
     "metadata": {},
     "output_type": "execute_result"
    }
   ],
   "source": [
    "p4=[p3[0]+ pf_d*math.cos( (azimuth+90+90)/180*math.pi),p3[1]+ pf_d*math.sin( (azimuth+90+90)/180*math.pi)]\n",
    "p4"
   ]
  },
  {
   "cell_type": "code",
   "execution_count": 8,
   "id": "66eadee5",
   "metadata": {},
   "outputs": [
    {
     "name": "stdout",
     "output_type": "stream",
     "text": [
      "[521431.140034, 4776799.79509] , [521431.8471407812, 4776799.087983219] , [521432.55424756237, 4776799.79509] , [521431.8471407812, 4776800.502196781]\n"
     ]
    }
   ],
   "source": [
    "print(p1,\",\",p2,\",\",p3,\",\",p4)"
   ]
  },
  {
   "cell_type": "code",
   "execution_count": null,
   "id": "200348a0",
   "metadata": {},
   "outputs": [],
   "source": [
    "p2_1=[x+ pf_d*math.cos(azimuth/180*math.pi),y+ pf_d*math.sin(azimuth/180*math.pi)]\n",
    "p2_1"
   ]
  },
  {
   "cell_type": "code",
   "execution_count": 9,
   "id": "f618cc73",
   "metadata": {},
   "outputs": [
    {
     "name": "stdout",
     "output_type": "stream",
     "text": [
      "[521431.2578851302, 4776799.67723887] [521431.3757362604, 4776799.55938774] [521431.4935873906, 4776799.44153661] [521431.6114385208, 4776799.323685479] [521431.729289651, 4776799.20583435]\n"
     ]
    }
   ],
   "source": [
    "row1_start=[x+1/6*math.cos(azimuth/180*math.pi),y+1/6*math.sin(azimuth/180*math.pi)]\n",
    "row2_start=[x+2/6*math.cos(azimuth/180*math.pi),y+2/6*math.sin(azimuth/180*math.pi)]\n",
    "row3_start=[x+3/6*math.cos(azimuth/180*math.pi),y+3/6*math.sin(azimuth/180*math.pi)]\n",
    "row4_start=[x+4/6*math.cos(azimuth/180*math.pi),y+4/6*math.sin(azimuth/180*math.pi)]\n",
    "row5_start=[x+5/6*math.cos(azimuth/180*math.pi),y+5/6*math.sin(azimuth/180*math.pi)]\n",
    "print(row1_start,row2_start,row3_start,row4_start,row5_start)"
   ]
  },
  {
   "cell_type": "code",
   "execution_count": 10,
   "id": "67c3a6e4",
   "metadata": {},
   "outputs": [
    {
     "name": "stdout",
     "output_type": "stream",
     "text": [
      "[521432.43639643217, 4776799.91294113] [521432.31854530197, 4776800.030792261] [521432.20069417177, 4776800.14864339] [521432.0828430416, 4776800.266494521] [521431.9649919114, 4776800.384345651]\n"
     ]
    }
   ],
   "source": [
    "row5_end=[p3[0]+1/6*math.cos( (azimuth+90+90)/180*math.pi),p3[1]+1/6*math.sin( (azimuth+90+90)/180*math.pi)]\n",
    "row4_end=[p3[0]+2/6*math.cos( (azimuth+90+90)/180*math.pi),p3[1]+2/6*math.sin( (azimuth+90+90)/180*math.pi)]\n",
    "row3_end=[p3[0]+3/6*math.cos( (azimuth+90+90)/180*math.pi),p3[1]+3/6*math.sin( (azimuth+90+90)/180*math.pi)]\n",
    "row2_end=[p3[0]+4/6*math.cos( (azimuth+90+90)/180*math.pi),p3[1]+4/6*math.sin( (azimuth+90+90)/180*math.pi)]\n",
    "row1_end=[p3[0]+5/6*math.cos( (azimuth+90+90)/180*math.pi),p3[1]+5/6*math.sin( (azimuth+90+90)/180*math.pi)]\n",
    "print(row5_end,row4_end,row3_end,row2_end,row1_end)"
   ]
  },
  {
   "cell_type": "code",
   "execution_count": 11,
   "id": "ced32795",
   "metadata": {},
   "outputs": [
    {
     "data": {
      "text/plain": [
       "(4776799.67723887, 4776800.384345651, 0.047619047619047616)"
      ]
     },
     "execution_count": 11,
     "metadata": {},
     "output_type": "execute_result"
    }
   ],
   "source": [
    "row1_start[1],row1_end[1],1/(20+1)"
   ]
  },
  {
   "cell_type": "code",
   "execution_count": 12,
   "id": "29731351",
   "metadata": {},
   "outputs": [
    {
     "name": "stdout",
     "output_type": "stream",
     "text": [
      "[521431.25788513 521431.30550418 521431.35312323 521431.40074227\n",
      " 521431.44836132 521431.49598037 521431.54359942 521431.59121846\n",
      " 521431.63883751 521431.68645656 521431.73407561 521431.78169465\n",
      " 521431.8293137  521431.87693275 521431.9245518 ]\n"
     ]
    },
    {
     "ename": "AttributeError",
     "evalue": "module 'pandas' has no attribute 'DataFrame'",
     "output_type": "error",
     "traceback": [
      "\u001b[0;31m---------------------------------------------------------------------------\u001b[0m",
      "\u001b[0;31mAttributeError\u001b[0m                            Traceback (most recent call last)",
      "\u001b[0;32m<ipython-input-12-fc3f87d7faed>\u001b[0m in \u001b[0;36m<module>\u001b[0;34m\u001b[0m\n\u001b[1;32m      5\u001b[0m \u001b[0;31m#rint(np.arange(row1_start[1],row1_end[1], 0))\u001b[0m\u001b[0;34m\u001b[0m\u001b[0;34m\u001b[0m\u001b[0;34m\u001b[0m\u001b[0m\n\u001b[1;32m      6\u001b[0m \u001b[0;34m\u001b[0m\u001b[0m\n\u001b[0;32m----> 7\u001b[0;31m \u001b[0mrow1\u001b[0m\u001b[0;34m=\u001b[0m\u001b[0mpd\u001b[0m\u001b[0;34m.\u001b[0m\u001b[0mDataFrame\u001b[0m\u001b[0;34m(\u001b[0m\u001b[0;34m{\u001b[0m\u001b[0;34m'x'\u001b[0m\u001b[0;34m:\u001b[0m\u001b[0mnp\u001b[0m\u001b[0;34m.\u001b[0m\u001b[0marange\u001b[0m\u001b[0;34m(\u001b[0m\u001b[0mrow1_start\u001b[0m\u001b[0;34m[\u001b[0m\u001b[0;36m0\u001b[0m\u001b[0;34m]\u001b[0m\u001b[0;34m,\u001b[0m\u001b[0mrow1_end\u001b[0m\u001b[0;34m[\u001b[0m\u001b[0;36m0\u001b[0m\u001b[0;34m]\u001b[0m\u001b[0;34m,\u001b[0m\u001b[0;36m1\u001b[0m\u001b[0;34m/\u001b[0m\u001b[0;34m(\u001b[0m\u001b[0;36m20\u001b[0m\u001b[0;34m+\u001b[0m\u001b[0;36m1\u001b[0m\u001b[0;34m)\u001b[0m\u001b[0;34m)\u001b[0m \u001b[0;34m}\u001b[0m\u001b[0;34m)\u001b[0m\u001b[0;34m\u001b[0m\u001b[0;34m\u001b[0m\u001b[0m\n\u001b[0m\u001b[1;32m      8\u001b[0m \u001b[0;34m\u001b[0m\u001b[0m\n\u001b[1;32m      9\u001b[0m \u001b[0mrow1\u001b[0m\u001b[0;34m[\u001b[0m\u001b[0;34m'y'\u001b[0m\u001b[0;34m]\u001b[0m\u001b[0;34m=\u001b[0m\u001b[0mrow1_start\u001b[0m\u001b[0;34m[\u001b[0m\u001b[0;36m1\u001b[0m\u001b[0;34m]\u001b[0m\u001b[0;34m\u001b[0m\u001b[0;34m\u001b[0m\u001b[0m\n",
      "\u001b[0;31mAttributeError\u001b[0m: module 'pandas' has no attribute 'DataFrame'"
     ]
    }
   ],
   "source": [
    "type([523335.0399, 4779543.683333333])\n",
    "type((523335.0399, 4779543.683333333))\n",
    "print(np.arange(row1_start[0],row1_end[0],1/(20+1)))\n",
    "\n",
    "#rint(np.arange(row1_start[1],row1_end[1], 0))\n",
    "\n",
    "row1=pd.DataFrame({'x':np.arange(row1_start[0],row1_end[0],1/(20+1)) })\n",
    "\n",
    "row1['y']=row1_start[1]\n",
    "\n",
    "row1['pin']=row1.index\n",
    "                 \n",
    "row1.to_csv(r'C:\\Users\\taohuang\\Downloads\\ltvr_point_frame-main20221114\\ltvr_point_frame-main\\row1.csv' )\n",
    "\n",
    "\n",
    "#ow1_start[1]\n",
    "#ow1_end[1]\n",
    "\n",
    "#(row1_start-row1_end)/(20+1)\n",
    "#row1_pts=row1_start+(row1_start-row1_end)/(20+1)\n",
    "#row1_pts\n",
    "      "
   ]
  },
  {
   "cell_type": "code",
   "execution_count": 21,
   "id": "4ca30925",
   "metadata": {},
   "outputs": [
    {
     "data": {
      "text/plain": [
       "'C:\\\\Users\\\\taohuang\\\\Downloads\\\\ltvr_point_frame-main(3)\\\\ltvr_point_frame-main'"
      ]
     },
     "execution_count": 21,
     "metadata": {},
     "output_type": "execute_result"
    }
   ],
   "source": [
    "import os \n",
    "os.getcwd()"
   ]
  },
  {
   "cell_type": "code",
   "execution_count": 10,
   "id": "0ae56356",
   "metadata": {},
   "outputs": [],
   "source": [
    "wgs84 = pyproj.Proj(projparams = 'epsg:4326')\n",
    "utm = pyproj.Proj(projparams = 'epsg:32611')"
   ]
  },
  {
   "cell_type": "code",
   "execution_count": 11,
   "id": "5f713b84",
   "metadata": {},
   "outputs": [
    {
     "name": "stdout",
     "output_type": "stream",
     "text": [
      "[[-116.71292517050624, 43.16829419026596], [-116.71292643560051, 43.168024048912486], [-116.71255737255926, 43.168023122318516], [-116.71255610583866, 43.1682932636633]]\n"
     ]
    },
    {
     "name": "stderr",
     "output_type": "stream",
     "text": [
      "C:\\Users\\taohuang\\AppData\\Local\\Temp/ipykernel_11212/3933757608.py:1: DeprecationWarning: This function is deprecated. See: https://pyproj4.github.io/pyproj/stable/gotchas.html#upgrading-to-pyproj-2-from-pyproj-1\n",
      "  lon_lat1 = pyproj.transform(utm,wgs84, p1[0],p1[1])\n",
      "C:\\Users\\taohuang\\AppData\\Local\\Temp/ipykernel_11212/3933757608.py:4: DeprecationWarning: This function is deprecated. See: https://pyproj4.github.io/pyproj/stable/gotchas.html#upgrading-to-pyproj-2-from-pyproj-1\n",
      "  lon_lat2 = pyproj.transform(utm,wgs84, p2[0],p2[1])\n",
      "C:\\Users\\taohuang\\AppData\\Local\\Temp/ipykernel_11212/3933757608.py:7: DeprecationWarning: This function is deprecated. See: https://pyproj4.github.io/pyproj/stable/gotchas.html#upgrading-to-pyproj-2-from-pyproj-1\n",
      "  lon_lat3 = pyproj.transform(utm,wgs84, p3[0],p3[1])\n",
      "C:\\Users\\taohuang\\AppData\\Local\\Temp/ipykernel_11212/3933757608.py:10: DeprecationWarning: This function is deprecated. See: https://pyproj4.github.io/pyproj/stable/gotchas.html#upgrading-to-pyproj-2-from-pyproj-1\n",
      "  lon_lat4 = pyproj.transform(utm,wgs84, p4[0],p4[1])\n"
     ]
    }
   ],
   "source": [
    "lon_lat1 = pyproj.transform(utm,wgs84, p1[0],p1[1])\n",
    "lon_latp1= [lon_lat1[1],lon_lat1[0]]\n",
    "\n",
    "lon_lat2 = pyproj.transform(utm,wgs84, p2[0],p2[1])\n",
    "lon_latp2=[lon_lat2[1],lon_lat2[0]]\n",
    "\n",
    "lon_lat3 = pyproj.transform(utm,wgs84, p3[0],p3[1])\n",
    "lon_latp3=[lon_lat3[1],lon_lat3[0]]\n",
    "\n",
    "lon_lat4 = pyproj.transform(utm,wgs84, p4[0],p4[1])\n",
    "lon_latp4=[lon_lat4[1],lon_lat4[0]]\n",
    "\n",
    "print([lon_latp1,lon_latp2,lon_latp3,lon_latp4])\n",
    "\n",
    "#print( [lon_lat1[0],lon_lat1[1]],\",\",[lon_lat2[0],lon_lat2[1]],\",\",[lon_lat3[0],lon_lat3[1]],\",\",[lon_lat4[0],lon_lat4[1]] )"
   ]
  },
  {
   "cell_type": "code",
   "execution_count": 12,
   "id": "d533587e",
   "metadata": {},
   "outputs": [],
   "source": [
    "#from pygc import great_circle"
   ]
  },
  {
   "cell_type": "markdown",
   "id": "25166717",
   "metadata": {},
   "source": [
    "https://introcs.cs.princeton.edu/python/12types/greatcircle.py.html"
   ]
  },
  {
   "cell_type": "code",
   "execution_count": 13,
   "id": "78ac843f",
   "metadata": {},
   "outputs": [],
   "source": [
    "#great_circle(distance= 1/1609, azimuth=270, latitude= 43.168303, longitude= -116.712925)"
   ]
  },
  {
   "cell_type": "code",
   "execution_count": null,
   "id": "6d45e246",
   "metadata": {},
   "outputs": [],
   "source": []
  },
  {
   "cell_type": "code",
   "execution_count": null,
   "id": "22c7b24b",
   "metadata": {},
   "outputs": [],
   "source": []
  }
 ],
 "metadata": {
  "kernelspec": {
   "display_name": "Python 3 (ipykernel)",
   "language": "python",
   "name": "python3"
  },
  "language_info": {
   "codemirror_mode": {
    "name": "ipython",
    "version": 3
   },
   "file_extension": ".py",
   "mimetype": "text/x-python",
   "name": "python",
   "nbconvert_exporter": "python",
   "pygments_lexer": "ipython3",
   "version": "3.8.12"
  }
 },
 "nbformat": 4,
 "nbformat_minor": 5
}
